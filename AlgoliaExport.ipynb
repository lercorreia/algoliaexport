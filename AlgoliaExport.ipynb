{
  "nbformat": 4,
  "nbformat_minor": 0,
  "metadata": {
    "colab": {
      "provenance": []
    },
    "kernelspec": {
      "name": "python3",
      "display_name": "Python 3"
    },
    "language_info": {
      "name": "python"
    }
  },
  "cells": [
    {
      "cell_type": "code",
      "execution_count": 1,
      "metadata": {
        "colab": {
          "base_uri": "https://localhost:8080/"
        },
        "id": "dko3IooFb2qT",
        "outputId": "71b15b39-60fb-48e9-89b9-cf527b504fda"
      },
      "outputs": [
        {
          "output_type": "stream",
          "name": "stdout",
          "text": [
            "Collecting algoliasearch\n",
            "  Downloading algoliasearch-3.0.0-py2.py3-none-any.whl (33 kB)\n",
            "Requirement already satisfied: requests<3.0,>=2.21 in /usr/local/lib/python3.10/dist-packages (from algoliasearch) (2.31.0)\n",
            "Requirement already satisfied: charset-normalizer<4,>=2 in /usr/local/lib/python3.10/dist-packages (from requests<3.0,>=2.21->algoliasearch) (3.3.2)\n",
            "Requirement already satisfied: idna<4,>=2.5 in /usr/local/lib/python3.10/dist-packages (from requests<3.0,>=2.21->algoliasearch) (3.7)\n",
            "Requirement already satisfied: urllib3<3,>=1.21.1 in /usr/local/lib/python3.10/dist-packages (from requests<3.0,>=2.21->algoliasearch) (2.0.7)\n",
            "Requirement already satisfied: certifi>=2017.4.17 in /usr/local/lib/python3.10/dist-packages (from requests<3.0,>=2.21->algoliasearch) (2024.2.2)\n",
            "Installing collected packages: algoliasearch\n",
            "Successfully installed algoliasearch-3.0.0\n"
          ]
        }
      ],
      "source": [
        "!pip install algoliasearch"
      ]
    },
    {
      "cell_type": "code",
      "source": [
        "import csv\n",
        "from algoliasearch.search_client import SearchClient"
      ],
      "metadata": {
        "id": "zBTqPlHMfJf2"
      },
      "execution_count": 2,
      "outputs": []
    },
    {
      "cell_type": "code",
      "source": [
        "ALGOLIA_APP_ID = ''\n",
        "ALGOLIA_API_KEY = ''\n",
        "INDEX_NAME = ''\n",
        "\n",
        "# Criar cliente Algolia\n",
        "client = SearchClient.create(ALGOLIA_APP_ID, ALGOLIA_API_KEY)\n",
        "index = client.init_index(INDEX_NAME)\n",
        "\n",
        "# Recuperar todos os registros do índice\n",
        "all_records = []\n",
        "for hit in index.browse_objects():\n",
        "    all_records.append(hit)\n",
        "\n",
        "\n",
        "# Especificar os nomes das colunas do CSV\n",
        "csv_columns = all_records[0].keys() if all_records else []\n",
        "\n",
        "# Nome do arquivo CSV\n",
        "csv_file = \"users.csv\"\n",
        "\n",
        "# Escrever os registros em um arquivo CSV\n",
        "try:\n",
        "    with open(csv_file, 'w', newline='', encoding='utf-8') as csvfile:\n",
        "        writer = csv.DictWriter(csvfile, fieldnames=csv_columns)\n",
        "        writer.writeheader()\n",
        "        for data in all_records:\n",
        "            writer.writerow(data)\n",
        "    print(\"Exportação para CSV concluída com sucesso!\")\n",
        "except IOError:\n",
        "    print(\"Erro ao escrever no arquivo CSV.\")"
      ],
      "metadata": {
        "colab": {
          "base_uri": "https://localhost:8080/"
        },
        "id": "Ql0DM4VhfLMw",
        "outputId": "030be64e-7638-4fc3-c244-b08534d657e4"
      },
      "execution_count": 3,
      "outputs": [
        {
          "output_type": "stream",
          "name": "stdout",
          "text": [
            "Exportação para CSV concluída com sucesso!\n"
          ]
        }
      ]
    }
  ]
}